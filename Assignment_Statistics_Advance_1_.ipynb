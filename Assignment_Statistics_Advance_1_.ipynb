{
  "nbformat": 4,
  "nbformat_minor": 0,
  "metadata": {
    "colab": {
      "provenance": []
    },
    "kernelspec": {
      "name": "python3",
      "display_name": "Python 3"
    },
    "language_info": {
      "name": "python"
    }
  },
  "cells": [
    {
      "cell_type": "markdown",
      "source": [
        "1. What is a random variable in probability theory?\n",
        "- In probability theory, a random variable is a variable that represents the outcome of a random process. It assigns numerical values to the outcomes of a probabilistic experiment.\n"
      ],
      "metadata": {
        "id": "dvUtLWWSUJ6v"
      }
    },
    {
      "cell_type": "markdown",
      "source": [
        "2. What are the types of random variables?\n",
        "- Types of Random Variable\n",
        "   - Discrete random variable: Takes specific, separate values (e.g., number of heads in 3 coin tosses).\n",
        "\n",
        "   - Continuous random variable: Takes any value within a range (e.g., the time it takes to run a race).\n"
      ],
      "metadata": {
        "id": "2kR6HMJwU-P9"
      }
    },
    {
      "cell_type": "markdown",
      "source": [
        "3. What is the difference between discrete and continuous distributions?\n",
        "- **Discrete Distribution**\n",
        "  - Deals with countable outcomes.\n",
        "  - Values are separated (e.g., 0, 1, 2...)\n",
        "  - Probability is described using a probability mass function (PMF).\n",
        "  - Example: Number of heads in 10 coin tosses, number of students in a class.\n",
        "\n",
        "- **Continuous Distribution**\n",
        "  - Deals with uncountable/infinite outcomes within a range.\n",
        "  - Values are any real number in an interval.\n",
        "  - Probability is described using a probability density function (PDF).\n",
        "  - Example: Height of students, time taken to run a race."
      ],
      "metadata": {
        "id": "x9LC87K7VK1E"
      }
    },
    {
      "cell_type": "markdown",
      "source": [
        "4. What are probability distribution functions (PDF)?\n",
        "- A Probability Distribution Function (PDF) describes the likelihood of a continuous random variable falling within a range. It defines the shape of the distribution, and the area under the curve over an interval gives the probability for that range."
      ],
      "metadata": {
        "id": "ocVIEQC-Wu0_"
      }
    },
    {
      "cell_type": "markdown",
      "source": [
        "5.  How do cumulative distribution functions (CDF) differ from probability distribution functions (PDF)?\n",
        "- A PDF shows the likelihood of a value in a range (for continuous variables), while a CDF gives the probability that a variable is less than or equal to a certain value.\n",
        "In short:\n",
        "\n",
        "  - **PDF** = probability density\n",
        "\n",
        "  - **CDF** = cumulative probability up to a point"
      ],
      "metadata": {
        "id": "F5eVgzr3W788"
      }
    },
    {
      "cell_type": "markdown",
      "source": [
        "6. What is a discrete uniform distribution?\n",
        "- A discrete uniform distribution is a probability distribution where a finite set of outcomes has equal probability of occurring. Each outcome in the set is equally likely."
      ],
      "metadata": {
        "id": "hILsdQGMXLuG"
      }
    },
    {
      "cell_type": "markdown",
      "source": [
        "7. What are the key properties of a Bernoulli distribution?\n",
        "- A Bernoulli distribution models binary outcomes (success/failure) with a single parameter\n",
        "𝑝, representing the probability of success.\n",
        "\n",
        "The key properties of a Bernoulli distribution are:\n",
        "\n",
        " - Two outcomes: Only two possible outcomes, often labeled as 1 (success) and 0 (failure).\n",
        "\n",
        " - Single trial: Represents a single trial of a binary experiment (e.g., coin flip, yes/no decision).\n",
        "\n",
        " - Parameter: Defined by a single parameter\n",
        "𝑝, which is the probability of success (1).\n",
        "\n",
        " - Mean:\n",
        "𝜇\n",
        "=\n",
        "𝑝\n",
        "\n",
        "\n",
        " - Variance:\n",
        "𝜎\n",
        "2\n",
        "=\n",
        "𝑝\n",
        "(\n",
        "1\n",
        "−\n",
        "𝑝\n",
        ")\n"
      ],
      "metadata": {
        "id": "v3QVfRWnXTBO"
      }
    },
    {
      "cell_type": "markdown",
      "source": [
        "8. What is the binomial distribution, and how is it used in probability?\n",
        "- The binomial distribution models the number of successes in a fixed number of independent trials, each with the same probability of success.\n",
        "- is used to calculate the probability of getting k successes in n independent trials with a constant probability of success\n",
        "𝑝 on each trial.\n",
        "\n",
        "\n",
        "\n",
        "\n"
      ],
      "metadata": {
        "id": "TlcL_ISkX6_n"
      }
    },
    {
      "cell_type": "markdown",
      "source": [
        "9. What is the Poisson distribution and where is it applied?\n",
        "- The Poisson distribution models the probability of a given number of events occurring in a fixed interval of time or space, when the events happen independently and at a constant average rate.\n",
        "- Example:\n",
        "  - Number of emails received per hour\n",
        "\n",
        "  - Calls to a call center per minute\n",
        "\n",
        "  - Accidents at a traffic intersection per day"
      ],
      "metadata": {
        "id": "8my4pcRHYUbC"
      }
    },
    {
      "cell_type": "markdown",
      "source": [
        "10. What is a continuous uniform distribution?\n",
        "- A continuous uniform distribution is a probability distribution where all values within a certain interval are equally likely to occur.\n",
        "- A continuous uniform distribution has equal probability for all values in a given interval\n",
        "[\n",
        "𝑎\n",
        ",\n",
        "𝑏\n",
        "].\n"
      ],
      "metadata": {
        "id": "9zqHp36pacmW"
      }
    },
    {
      "cell_type": "markdown",
      "source": [
        "11. What are the characteristics of a normal distribution?\n",
        "- Bell-shaped curve: Symmetrical around the mean.\n",
        "- Mean = Median = Mode: All are equal at the center of the distribution.\n",
        "- Defined by two parameters:\n",
        "  - μ (mean): Determines the center.\n",
        "  - σ (standard deviation): Determines the spread.\n",
        "- Empirical Rule (68-95-99.7 Rule):\n",
        "  - ~68% of values fall within\n",
        "±1σ\n",
        "  - ~95% within\n",
        "±2σ\n",
        "  - ~99.7% within\n",
        "±3σ\n",
        "- Total area under the curve = 1: Represents total probability.\n",
        "- Tails extend infinitely: But never touch the x-axis."
      ],
      "metadata": {
        "id": "bCtqU3V1cPVl"
      }
    },
    {
      "cell_type": "markdown",
      "source": [
        "12. What is the standard normal distribution, and why is it important?\n",
        "- The standard normal distribution is a normal distribution with mean 0 and standard deviation 1. It’s essential for comparing data and performing statistical analysis using Z-scores.\n",
        "- It is important because of the following reasons:\n",
        "  - Simplifies calculations: Probabilities and critical values are pre-tabulated (Z-tables).\n",
        "  - Used for standardization: Any normal distribution can be converted to standard normal using:  \n",
        "              Z= X−μ/σ\n",
        "\n",
        "  - Foundation for statistical tests: Used in z-tests, confidence intervals, and hypothesis testing.\n",
        "\n",
        "\n",
        "\n",
        "\n",
        "  "
      ],
      "metadata": {
        "id": "I80i52oieHst"
      }
    },
    {
      "cell_type": "markdown",
      "source": [
        "13. What is the Central Limit Theorem (CLT), and why is it critical in statistics?\n",
        "- The Central Limit Theorem (CLT) states that the sampling distribution of the sample mean approaches a normal distribution as the sample size becomes large, regardless of the population's original distribution, provided the samples are independent and identically distributed.\n",
        "\n",
        "- It is Critical because:\n",
        "  - Enables use of normal distribution for inference, even when data isn't normally distributed.\n",
        "  - Forms the basis of many statistical methods like confidence intervals and hypothesis testing.\n",
        "  - Justifies approximations for large samples in real-world problems."
      ],
      "metadata": {
        "id": "Fd5RvLtOfER3"
      }
    },
    {
      "cell_type": "markdown",
      "source": [
        "14. = How does the Central Limit Theorem relate to the normal distribution?\n",
        "- The Central Limit Theorem (CLT) relates to the normal distribution by explaining why and when sample means follow a normal distribution, even if the original data is not normally distributed.\n",
        "- The CLT connects any population to the normal distribution by showing that sample means become normally distributed as sample size grows, enabling reliable statistical analysis.\n",
        "\n"
      ],
      "metadata": {
        "id": "-0hvuXXDpRXC"
      }
    },
    {
      "cell_type": "markdown",
      "source": [
        "15. What is the application of Z statistics in hypothesis testing?\n",
        "- Z-statistics are used to determine how far a sample statistic (like the mean) is from the population mean in terms of standard deviations.\n",
        "  - Testing population means (when population standard deviation is known)\n",
        "\n",
        "    Example: Is the average test score different from 70?\n",
        "\n",
        "  - Comparing two means : When both population variances are known and samples are large.\n",
        "  - Proportion tests: For testing population proportions (e.g., % of voters in favor of a policy)"
      ],
      "metadata": {
        "id": "iibDiNlfp0Ev"
      }
    },
    {
      "cell_type": "markdown",
      "source": [
        "16.  How do you calculate a Z-score, and what does it represent?\n",
        "- Calculate a Z- score\n",
        "\n",
        "           Z=  X−μ/σ\n",
        "                \n",
        "𝑋 = individual data point\n",
        "\n",
        "𝜇 = population mean\n",
        "\n",
        "𝜎 = population standard deviation\n",
        "\n",
        "\n",
        "\n",
        "A  Z-score tells you how many standard deviations a data point\n",
        "𝑋 is from the mean:\n",
        "\n",
        "Z = 0 → exactly at the mean\n",
        "\n",
        "Z > 0 → above the mean\n",
        "\n",
        "Z < 0 → below the mean"
      ],
      "metadata": {
        "id": "i1BtWYRIqRdI"
      }
    },
    {
      "cell_type": "markdown",
      "source": [
        "17. What are point estimates and interval estimates in statistics?\n",
        "- Point Estimate:\n",
        "A single value used to estimate a population parameter.\n",
        "\n",
        "  Example: Sample mean (\n",
        "𝑥\n",
        "ˉ\n",
        " ) used to estimate population mean (\n",
        "𝜇\n",
        ").\n",
        "- A range of values, usually with a confidence level, that is likely to contain the population parameter.\n",
        "\n",
        "  Example: 95% confidence interval for the mean:\n",
        "    \n",
        "\n"
      ],
      "metadata": {
        "id": "4JgKd8ZcrY4A"
      }
    },
    {
      "cell_type": "markdown",
      "source": [
        "18. What is the significance of confidence intervals in statistical analysis?\n",
        "- Confidence intervals (CIs) provide a range of values that likely contains the true population parameter, along with a specified confidence level (e.g., 95%).\n",
        " - Measure uncertainty: CIs show the precision of an estimate (wider = less precise).\n",
        " - Support decision-making: Helps assess if results are statistically significant.\n",
        " - More informative than point estimates: They give a range, not just a single guess.\n",
        " - Used in hypothesis testing: If a CI doesn't contain a hypothesized value, it suggests that value may be incorrect."
      ],
      "metadata": {
        "id": "dhgXrwTftxNl"
      }
    },
    {
      "cell_type": "markdown",
      "source": [
        "19. What is the relationship between a Z-score and a confidence interval?\n",
        "- A Z-score is used to calculate confidence intervals when the population standard deviation is known and the data is normally distributed.\n",
        "- The Z-score defines how wide the confidence interval is—higher confidence levels use larger Z-scores, creating wider intervals to reflect greater certainty.\n",
        "\n",
        "The Z-score determines the margin of error in a confidence interval:\n",
        "\n",
        "Confidence Interval\n",
        "=\n",
        "𝑥\n",
        "ˉ\n",
        "±\n",
        "𝑍\n",
        "⋅\n",
        "𝜎\n",
        "𝑛\n",
        "𝑥 = sample mean\n",
        "\n",
        "𝜎= population standard deviation\n",
        "\n",
        "𝑛= sample size\n",
        "\n",
        "𝑍 = Z-score corresponding to the desired confidence level:\n",
        "\n",
        "90% → Z ≈ 1.645\n",
        "\n",
        "95% → Z ≈ 1.96\n",
        "\n",
        "99% → Z ≈ 2.576"
      ],
      "metadata": {
        "id": "9_gfPJs1wBL1"
      }
    },
    {
      "cell_type": "markdown",
      "source": [
        "20. How are Z-scores used to compare different distributions?\n",
        "- Z-scores standardize values by converting them into a common scale based on standard deviations from the mean. This allows direct comparison between values from different distributions (with different means and standard deviations).\n",
        "- Z-scores standardize values by converting them into a common scale based on standard deviations from the mean. This allows direct comparison between values from different distributions (with different means and standard deviations)."
      ],
      "metadata": {
        "id": "NH_jSX5iwzm8"
      }
    },
    {
      "cell_type": "markdown",
      "source": [
        "21. What are the assumptions for applying the Central Limit Theorem?\n",
        "- Independent observations:\n",
        "Each sample or trial must be independent of others.\n",
        "\n",
        "- Identically distributed:\n",
        "All samples are drawn from the same distribution.\n",
        "\n",
        "- Finite mean and variance:\n",
        "The population must have a defined (finite) mean (\n",
        "𝜇\n",
        "μ) and standard deviation (\n",
        "𝜎\n",
        "σ).\n",
        "\n",
        "- Sufficiently large sample size:\n",
        "\n",
        "   - For symmetric or normal distributions:\n",
        "𝑛\n",
        "≥\n",
        "30\n",
        "n≥30 is typically enough.\n",
        "\n",
        "   - For skewed or non-normal distributions: larger\n",
        "𝑛\n",
        "n may be required."
      ],
      "metadata": {
        "id": "c67R8f7fxCap"
      }
    },
    {
      "cell_type": "markdown",
      "source": [
        "22. What is the concept of expected value in a probability distribution?\n",
        "- The expected value (or mean) of a probability distribution represents the average outcome you would expect over many trials of a random experiment.\n",
        "- The expected value is the long-run average outcome of a random variable—it tells you what to expect on average over many repetitions."
      ],
      "metadata": {
        "id": "Ccs6li8BxSPe"
      }
    },
    {
      "cell_type": "markdown",
      "source": [
        "23.  How does a probability distribution relate to the expected outcome of a random variable?\n",
        "- A probability distribution describes how likely each possible value of a random variable is, while the expected outcome (or expected value) is the average value you'd expect over many trials based on that distribution.\n",
        "- A probability distribution determines the expected value by showing how likely each outcome is—the expected value is the weighted average of all possible outcomes."
      ],
      "metadata": {
        "id": "Yw_D2TowxkWf"
      }
    }
  ]
}